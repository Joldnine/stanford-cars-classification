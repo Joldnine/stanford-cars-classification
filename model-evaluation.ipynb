{
 "cells": [
  {
   "cell_type": "markdown",
   "metadata": {},
   "source": [
    "## Import packages"
   ]
  },
  {
   "cell_type": "code",
   "execution_count": 1,
   "metadata": {},
   "outputs": [],
   "source": [
    "from fastai.vision import *\n",
    "from scipy.io import loadmat\n",
    "from tqdm import tqdm"
   ]
  },
  {
   "cell_type": "markdown",
   "metadata": {},
   "source": [
    "## Set global constants"
   ]
  },
  {
   "cell_type": "code",
   "execution_count": 7,
   "metadata": {},
   "outputs": [
    {
     "data": {
      "text/plain": [
       "('/Users/young/Develop/github/Stanford-cars-classification',\n",
       " '/Users/young/Develop/github/Stanford-cars-classification/model/full-crop-resnext101-stg3.pkl',\n",
       " '/Users/young/Develop/github/Stanford-cars-classification/dataset/')"
      ]
     },
     "execution_count": 7,
     "metadata": {},
     "output_type": "execute_result"
    }
   ],
   "source": [
    "NB_PATH = !pwd\n",
    "NB_PATH = NB_PATH[0]\n",
    "MODULE_PKL = 'full-crop-resnext101-stg3.pkl'\n",
    "DATA_FOLDER = NB_PATH + '/dataset/'\n",
    "NB_PATH, NB_PATH + '/model/' + MODULE_PKL, DATA_FOLDER"
   ]
  },
  {
   "cell_type": "markdown",
   "metadata": {},
   "source": [
    "## Download trained model and the label file"
   ]
  },
  {
   "cell_type": "code",
   "execution_count": 3,
   "metadata": {},
   "outputs": [],
   "source": [
    "download_data('https://car-classfication.s3-ap-southeast-1.amazonaws.com/full-crop-resnext101-stg3', \n",
    "               fname=NB_PATH + '/model/' + MODULE_PKL,\n",
    "               ext='.pkl'\n",
    ")\n",
    "download_data('http://imagenet.stanford.edu/internal/car196/cars_annos', \n",
    "               fname=NB_PATH + '/dataset/cars_annos.mat',\n",
    "               ext='.mat'\n",
    ")\n",
    "df_label = loadmat('./dataset/cars_annos.mat')['class_names'][0]"
   ]
  },
  {
   "cell_type": "markdown",
   "metadata": {},
   "source": [
    "## Load model"
   ]
  },
  {
   "cell_type": "code",
   "execution_count": 4,
   "metadata": {},
   "outputs": [],
   "source": [
    "learn = load_learner(NB_PATH + '/model/', MODULE_PKL)"
   ]
  },
  {
   "cell_type": "markdown",
   "metadata": {},
   "source": [
    "## Util functions"
   ]
  },
  {
   "cell_type": "code",
   "execution_count": 5,
   "metadata": {},
   "outputs": [],
   "source": [
    "# The prediction is based on digits' alphabet order, so we need to decode predicted index to the actual label index.\n",
    "def decode_pred_to_label(pred_idx):\n",
    "    return int(sorted([str(x) for x in range(196)])[pred_idx])\n",
    "\n",
    "def pred(learn, img):\n",
    "    pred_class, pred_idx, outputs = learn.predict(img)\n",
    "    pred_np = to_np(outputs).T\n",
    "    pred_df = pd.DataFrame(pred_np)\n",
    "    pred_sort = pred_df[0].sort_values(ascending=False)[:1]\n",
    "    pred = [(decode_pred_to_label(index), prob) for index, prob in pred_sort.iteritems()]\n",
    "    return pred[0], df_label[pred[0][0]][0]\n",
    "\n",
    "def three_crop(img_east, img, img_west, width, height):\n",
    "    img_east.px = img_east.px[:, 0:height, 0:height] \\\n",
    "        if len(img_east.px.shape) == 3 \\\n",
    "        else img_east.px[0:height, 0:height]\n",
    "    img.px = img.px[:, 0:height, int(width/2-height/2):int(width/2+height/2)] \\\n",
    "        if len(img.px.shape) == 3 \\\n",
    "        else img.px[0:height, int(width/2-height/2):int(width/2+height/2)]\n",
    "    img_west.px = img_west.px[:, 0:height, width-height:width] \\\n",
    "        if len(img_west.px.shape) == 3 \\\n",
    "        else img_west.px[0:height, width-height:width]\n",
    "    return img_east, img, img_west\n",
    "\n",
    "def multi_crop(img):\n",
    "    shape = img.px.shape\n",
    "    img_east = deepcopy(img)\n",
    "    img_west = deepcopy(img)\n",
    "    height = shape[1]\n",
    "    width = shape[2]\n",
    "    if width < height: # swap width and height if height > width\n",
    "        tmp = height\n",
    "        height = width\n",
    "        width = tmp\n",
    "    three_crop(img_east, img, img_west, width, height)\n",
    "    return img_east, img, img_west\n"
   ]
  },
  {
   "cell_type": "markdown",
   "metadata": {},
   "source": [
    "## Run model on the test dataset"
   ]
  },
  {
   "cell_type": "markdown",
   "metadata": {},
   "source": [
    "The test is run in a laptop with CPU i7-3540M but without GPU. Prediction QPS is around 1.6 ops/s. Essembled prediction QPS is around 0.53 ops/s."
   ]
  },
  {
   "cell_type": "code",
   "execution_count": null,
   "metadata": {},
   "outputs": [],
   "source": [
    "IMG_PATH = DATA_FOLDER + '/test'\n",
    "imgs = [f for f in os.listdir(IMG_PATH) if f.endswith('.jpg') and os.path.isfile(os.path.join(IMG_PATH, f))]\n",
    "preds = []\n",
    "imgs.sort()\n",
    "for img in tqdm(imgs):\n",
    "    img = open_image(IMG_PATH + '/' + img)\n",
    "    img_east, img, img_west = multi_crop(img)\n",
    "    pred_center = pred(learn, img)\n",
    "    pred_east = pred(learn, img_east)\n",
    "    pred_west = pred(learn, img_west)\n",
    "    if pred_center[0][1] > max(pred_east[0][1], pred_west[0][1]): \n",
    "        preds.append(pred_center)\n",
    "    elif pred_east[0][1] > max(pred_center[0][1], pred_west[0][1]): \n",
    "        preds.append(pred_east)\n",
    "    else:\n",
    "        preds.append(pred_west)"
   ]
  },
  {
   "cell_type": "markdown",
   "metadata": {},
   "source": [
    "Sample predictions with predicted label and confidence score."
   ]
  },
  {
   "cell_type": "code",
   "execution_count": 12,
   "metadata": {},
   "outputs": [
    {
     "data": {
      "text/plain": [
       "[((0, 0.9925848841667175), 'AM General Hummer SUV 2000'),\n",
       " ((0, 0.9926090836524963), 'AM General Hummer SUV 2000'),\n",
       " ((1, 0.9993695616722107), 'Acura RL Sedan 2012'),\n",
       " ((1, 0.9992665648460388), 'Acura RL Sedan 2012'),\n",
       " ((1, 0.9998130202293396), 'Acura RL Sedan 2012')]"
      ]
     },
     "execution_count": 12,
     "metadata": {},
     "output_type": "execute_result"
    }
   ],
   "source": [
    "preds[:5]"
   ]
  },
  {
   "cell_type": "code",
   "execution_count": 7,
   "metadata": {},
   "outputs": [],
   "source": [
    "pred_labels = [x[0][0] for x in preds]"
   ]
  },
  {
   "cell_type": "code",
   "execution_count": 8,
   "metadata": {},
   "outputs": [],
   "source": [
    "fact_labels = lineList = [int(line.rstrip('\\n')) for line in open('test_labels.txt')]"
   ]
  },
  {
   "cell_type": "markdown",
   "metadata": {},
   "source": [
    "## Caculate accuracy\n",
    "For the sample test dataset, the accuracy is **91%**."
   ]
  },
  {
   "cell_type": "code",
   "execution_count": 9,
   "metadata": {},
   "outputs": [
    {
     "data": {
      "text/plain": [
       "0.91"
      ]
     },
     "execution_count": 9,
     "metadata": {},
     "output_type": "execute_result"
    }
   ],
   "source": [
    "same_cnt = 0\n",
    "for i in range(len(pred_labels)):\n",
    "    if pred_labels[i] == fact_labels[i]:\n",
    "        same_cnt += 1\n",
    "accuracy = same_cnt / len(pred_labels)\n",
    "accuracy"
   ]
  },
  {
   "cell_type": "markdown",
   "metadata": {},
   "source": [
    "## Confusion matrix"
   ]
  },
  {
   "cell_type": "code",
   "execution_count": null,
   "metadata": {},
   "outputs": [],
   "source": []
  },
  {
   "cell_type": "code",
   "execution_count": 60,
   "metadata": {},
   "outputs": [],
   "source": [
    "IMG_PATH = DATA_FOLDER + '/test'\n",
    "img = open_image(IMG_PATH + '/' + '000741.jpg')\n",
    "img_east, img, img_west = multi_crop(img)"
   ]
  },
  {
   "cell_type": "code",
   "execution_count": null,
   "metadata": {},
   "outputs": [],
   "source": []
  }
 ],
 "metadata": {
  "kernelspec": {
   "display_name": "Python 3",
   "language": "python",
   "name": "python3"
  },
  "language_info": {
   "codemirror_mode": {
    "name": "ipython",
    "version": 3
   },
   "file_extension": ".py",
   "mimetype": "text/x-python",
   "name": "python",
   "nbconvert_exporter": "python",
   "pygments_lexer": "ipython3",
   "version": "3.7.3"
  }
 },
 "nbformat": 4,
 "nbformat_minor": 2
}
